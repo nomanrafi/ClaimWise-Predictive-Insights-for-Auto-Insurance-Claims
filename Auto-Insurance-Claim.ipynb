{
 "cells": [
  {
   "cell_type": "code",
   "execution_count": 3,
   "metadata": {
    "execution": {
     "iopub.execute_input": "2024-12-06T16:29:52.659716Z",
     "iopub.status.busy": "2024-12-06T16:29:52.659313Z",
     "iopub.status.idle": "2024-12-06T16:29:52.665633Z",
     "shell.execute_reply": "2024-12-06T16:29:52.664529Z",
     "shell.execute_reply.started": "2024-12-06T16:29:52.659678Z"
    },
    "id": "5djI2WJ4Nhzg"
   },
   "outputs": [],
   "source": [
    "import numpy as np\n",
    "\n",
    "import pandas as pd\n",
    "\n",
    "import seaborn as sns\n",
    "\n",
    "import matplotlib.pyplot as plt\n",
    "\n",
    "from sklearn.preprocessing import LabelEncoder\n",
    "\n",
    "from sklearn.model_selection import train_test_split\n",
    "\n",
    "from sklearn.preprocessing import StandardScaler, LabelEncoder\n",
    "\n",
    "from sklearn.ensemble import RandomForestRegressor\n",
    "\n",
    "from sklearn.metrics import mean_absolute_error, mean_squared_error, r2_score\n",
    "\n",
    "from sklearn.linear_model import LinearRegression\n",
    "\n",
    "\n",
    "\n",
    "import scipy.stats as stats"
   ]
  },
  {
   "cell_type": "code",
   "execution_count": 4,
   "metadata": {
    "colab": {
     "base_uri": "https://localhost:8080/",
     "height": 444
    },
    "execution": {
     "iopub.execute_input": "2024-12-06T16:29:56.097845Z",
     "iopub.status.busy": "2024-12-06T16:29:56.096917Z",
     "iopub.status.idle": "2024-12-06T16:30:01.179127Z",
     "shell.execute_reply": "2024-12-06T16:30:01.178104Z",
     "shell.execute_reply.started": "2024-12-06T16:29:56.097805Z"
    },
    "id": "GeOeDeq0N7K5",
    "outputId": "a1738e8a-2758-4752-af24-3d260e10136c"
   },
   "outputs": [
    {
     "data": {
      "text/html": [
       "<div>\n",
       "<style scoped>\n",
       "    .dataframe tbody tr th:only-of-type {\n",
       "        vertical-align: middle;\n",
       "    }\n",
       "\n",
       "    .dataframe tbody tr th {\n",
       "        vertical-align: top;\n",
       "    }\n",
       "\n",
       "    .dataframe thead th {\n",
       "        text-align: right;\n",
       "    }\n",
       "</style>\n",
       "<table border=\"1\" class=\"dataframe\">\n",
       "  <thead>\n",
       "    <tr style=\"text-align: right;\">\n",
       "      <th></th>\n",
       "      <th>id</th>\n",
       "      <th>target</th>\n",
       "      <th>ps_ind_01</th>\n",
       "      <th>ps_ind_02_cat</th>\n",
       "      <th>ps_ind_03</th>\n",
       "      <th>ps_ind_04_cat</th>\n",
       "      <th>ps_ind_05_cat</th>\n",
       "      <th>ps_ind_06_bin</th>\n",
       "      <th>ps_ind_07_bin</th>\n",
       "      <th>ps_ind_08_bin</th>\n",
       "      <th>...</th>\n",
       "      <th>ps_calc_11</th>\n",
       "      <th>ps_calc_12</th>\n",
       "      <th>ps_calc_13</th>\n",
       "      <th>ps_calc_14</th>\n",
       "      <th>ps_calc_15_bin</th>\n",
       "      <th>ps_calc_16_bin</th>\n",
       "      <th>ps_calc_17_bin</th>\n",
       "      <th>ps_calc_18_bin</th>\n",
       "      <th>ps_calc_19_bin</th>\n",
       "      <th>ps_calc_20_bin</th>\n",
       "    </tr>\n",
       "  </thead>\n",
       "  <tbody>\n",
       "    <tr>\n",
       "      <th>0</th>\n",
       "      <td>7</td>\n",
       "      <td>0</td>\n",
       "      <td>2</td>\n",
       "      <td>2.0</td>\n",
       "      <td>5</td>\n",
       "      <td>1.0</td>\n",
       "      <td>0.0</td>\n",
       "      <td>0</td>\n",
       "      <td>1</td>\n",
       "      <td>0</td>\n",
       "      <td>...</td>\n",
       "      <td>9</td>\n",
       "      <td>1</td>\n",
       "      <td>5</td>\n",
       "      <td>8</td>\n",
       "      <td>0</td>\n",
       "      <td>1</td>\n",
       "      <td>1</td>\n",
       "      <td>0</td>\n",
       "      <td>0</td>\n",
       "      <td>1</td>\n",
       "    </tr>\n",
       "    <tr>\n",
       "      <th>1</th>\n",
       "      <td>9</td>\n",
       "      <td>0</td>\n",
       "      <td>1</td>\n",
       "      <td>1.0</td>\n",
       "      <td>7</td>\n",
       "      <td>0.0</td>\n",
       "      <td>0.0</td>\n",
       "      <td>0</td>\n",
       "      <td>0</td>\n",
       "      <td>1</td>\n",
       "      <td>...</td>\n",
       "      <td>3</td>\n",
       "      <td>1</td>\n",
       "      <td>1</td>\n",
       "      <td>9</td>\n",
       "      <td>0</td>\n",
       "      <td>1</td>\n",
       "      <td>1</td>\n",
       "      <td>0</td>\n",
       "      <td>1</td>\n",
       "      <td>0</td>\n",
       "    </tr>\n",
       "    <tr>\n",
       "      <th>2</th>\n",
       "      <td>13</td>\n",
       "      <td>0</td>\n",
       "      <td>5</td>\n",
       "      <td>4.0</td>\n",
       "      <td>9</td>\n",
       "      <td>1.0</td>\n",
       "      <td>0.0</td>\n",
       "      <td>0</td>\n",
       "      <td>0</td>\n",
       "      <td>1</td>\n",
       "      <td>...</td>\n",
       "      <td>4</td>\n",
       "      <td>2</td>\n",
       "      <td>7</td>\n",
       "      <td>7</td>\n",
       "      <td>0</td>\n",
       "      <td>1</td>\n",
       "      <td>1</td>\n",
       "      <td>0</td>\n",
       "      <td>1</td>\n",
       "      <td>0</td>\n",
       "    </tr>\n",
       "    <tr>\n",
       "      <th>3</th>\n",
       "      <td>16</td>\n",
       "      <td>0</td>\n",
       "      <td>0</td>\n",
       "      <td>1.0</td>\n",
       "      <td>2</td>\n",
       "      <td>0.0</td>\n",
       "      <td>0.0</td>\n",
       "      <td>1</td>\n",
       "      <td>0</td>\n",
       "      <td>0</td>\n",
       "      <td>...</td>\n",
       "      <td>2</td>\n",
       "      <td>2</td>\n",
       "      <td>4</td>\n",
       "      <td>9</td>\n",
       "      <td>0</td>\n",
       "      <td>0</td>\n",
       "      <td>0</td>\n",
       "      <td>0</td>\n",
       "      <td>0</td>\n",
       "      <td>0</td>\n",
       "    </tr>\n",
       "    <tr>\n",
       "      <th>4</th>\n",
       "      <td>17</td>\n",
       "      <td>0</td>\n",
       "      <td>0</td>\n",
       "      <td>2.0</td>\n",
       "      <td>0</td>\n",
       "      <td>1.0</td>\n",
       "      <td>0.0</td>\n",
       "      <td>1</td>\n",
       "      <td>0</td>\n",
       "      <td>0</td>\n",
       "      <td>...</td>\n",
       "      <td>3</td>\n",
       "      <td>1</td>\n",
       "      <td>1</td>\n",
       "      <td>3</td>\n",
       "      <td>0</td>\n",
       "      <td>0</td>\n",
       "      <td>0</td>\n",
       "      <td>1</td>\n",
       "      <td>1</td>\n",
       "      <td>0</td>\n",
       "    </tr>\n",
       "    <tr>\n",
       "      <th>...</th>\n",
       "      <td>...</td>\n",
       "      <td>...</td>\n",
       "      <td>...</td>\n",
       "      <td>...</td>\n",
       "      <td>...</td>\n",
       "      <td>...</td>\n",
       "      <td>...</td>\n",
       "      <td>...</td>\n",
       "      <td>...</td>\n",
       "      <td>...</td>\n",
       "      <td>...</td>\n",
       "      <td>...</td>\n",
       "      <td>...</td>\n",
       "      <td>...</td>\n",
       "      <td>...</td>\n",
       "      <td>...</td>\n",
       "      <td>...</td>\n",
       "      <td>...</td>\n",
       "      <td>...</td>\n",
       "      <td>...</td>\n",
       "      <td>...</td>\n",
       "    </tr>\n",
       "    <tr>\n",
       "      <th>595207</th>\n",
       "      <td>1488013</td>\n",
       "      <td>0</td>\n",
       "      <td>3</td>\n",
       "      <td>1.0</td>\n",
       "      <td>10</td>\n",
       "      <td>0.0</td>\n",
       "      <td>0.0</td>\n",
       "      <td>0</td>\n",
       "      <td>0</td>\n",
       "      <td>0</td>\n",
       "      <td>...</td>\n",
       "      <td>4</td>\n",
       "      <td>1</td>\n",
       "      <td>9</td>\n",
       "      <td>6</td>\n",
       "      <td>0</td>\n",
       "      <td>1</td>\n",
       "      <td>1</td>\n",
       "      <td>0</td>\n",
       "      <td>1</td>\n",
       "      <td>1</td>\n",
       "    </tr>\n",
       "    <tr>\n",
       "      <th>595208</th>\n",
       "      <td>1488016</td>\n",
       "      <td>0</td>\n",
       "      <td>5</td>\n",
       "      <td>1.0</td>\n",
       "      <td>3</td>\n",
       "      <td>0.0</td>\n",
       "      <td>0.0</td>\n",
       "      <td>0</td>\n",
       "      <td>0</td>\n",
       "      <td>0</td>\n",
       "      <td>...</td>\n",
       "      <td>4</td>\n",
       "      <td>1</td>\n",
       "      <td>3</td>\n",
       "      <td>8</td>\n",
       "      <td>1</td>\n",
       "      <td>0</td>\n",
       "      <td>1</td>\n",
       "      <td>0</td>\n",
       "      <td>1</td>\n",
       "      <td>1</td>\n",
       "    </tr>\n",
       "    <tr>\n",
       "      <th>595209</th>\n",
       "      <td>1488017</td>\n",
       "      <td>0</td>\n",
       "      <td>1</td>\n",
       "      <td>1.0</td>\n",
       "      <td>10</td>\n",
       "      <td>0.0</td>\n",
       "      <td>0.0</td>\n",
       "      <td>1</td>\n",
       "      <td>0</td>\n",
       "      <td>0</td>\n",
       "      <td>...</td>\n",
       "      <td>3</td>\n",
       "      <td>2</td>\n",
       "      <td>2</td>\n",
       "      <td>6</td>\n",
       "      <td>0</td>\n",
       "      <td>0</td>\n",
       "      <td>1</td>\n",
       "      <td>0</td>\n",
       "      <td>0</td>\n",
       "      <td>0</td>\n",
       "    </tr>\n",
       "    <tr>\n",
       "      <th>595210</th>\n",
       "      <td>1488021</td>\n",
       "      <td>0</td>\n",
       "      <td>5</td>\n",
       "      <td>2.0</td>\n",
       "      <td>3</td>\n",
       "      <td>1.0</td>\n",
       "      <td>0.0</td>\n",
       "      <td>0</td>\n",
       "      <td>0</td>\n",
       "      <td>1</td>\n",
       "      <td>...</td>\n",
       "      <td>4</td>\n",
       "      <td>1</td>\n",
       "      <td>4</td>\n",
       "      <td>2</td>\n",
       "      <td>0</td>\n",
       "      <td>1</td>\n",
       "      <td>1</td>\n",
       "      <td>1</td>\n",
       "      <td>0</td>\n",
       "      <td>0</td>\n",
       "    </tr>\n",
       "    <tr>\n",
       "      <th>595211</th>\n",
       "      <td>1488027</td>\n",
       "      <td>0</td>\n",
       "      <td>0</td>\n",
       "      <td>1.0</td>\n",
       "      <td>8</td>\n",
       "      <td>0.0</td>\n",
       "      <td>0.0</td>\n",
       "      <td>1</td>\n",
       "      <td>0</td>\n",
       "      <td>0</td>\n",
       "      <td>...</td>\n",
       "      <td>4</td>\n",
       "      <td>4</td>\n",
       "      <td>3</td>\n",
       "      <td>8</td>\n",
       "      <td>0</td>\n",
       "      <td>1</td>\n",
       "      <td>0</td>\n",
       "      <td>0</td>\n",
       "      <td>0</td>\n",
       "      <td>0</td>\n",
       "    </tr>\n",
       "  </tbody>\n",
       "</table>\n",
       "<p>595212 rows × 59 columns</p>\n",
       "</div>"
      ],
      "text/plain": [
       "             id  target  ps_ind_01  ps_ind_02_cat  ps_ind_03  ps_ind_04_cat  \\\n",
       "0             7       0          2            2.0          5            1.0   \n",
       "1             9       0          1            1.0          7            0.0   \n",
       "2            13       0          5            4.0          9            1.0   \n",
       "3            16       0          0            1.0          2            0.0   \n",
       "4            17       0          0            2.0          0            1.0   \n",
       "...         ...     ...        ...            ...        ...            ...   \n",
       "595207  1488013       0          3            1.0         10            0.0   \n",
       "595208  1488016       0          5            1.0          3            0.0   \n",
       "595209  1488017       0          1            1.0         10            0.0   \n",
       "595210  1488021       0          5            2.0          3            1.0   \n",
       "595211  1488027       0          0            1.0          8            0.0   \n",
       "\n",
       "        ps_ind_05_cat  ps_ind_06_bin  ps_ind_07_bin  ps_ind_08_bin  ...  \\\n",
       "0                 0.0              0              1              0  ...   \n",
       "1                 0.0              0              0              1  ...   \n",
       "2                 0.0              0              0              1  ...   \n",
       "3                 0.0              1              0              0  ...   \n",
       "4                 0.0              1              0              0  ...   \n",
       "...               ...            ...            ...            ...  ...   \n",
       "595207            0.0              0              0              0  ...   \n",
       "595208            0.0              0              0              0  ...   \n",
       "595209            0.0              1              0              0  ...   \n",
       "595210            0.0              0              0              1  ...   \n",
       "595211            0.0              1              0              0  ...   \n",
       "\n",
       "        ps_calc_11  ps_calc_12  ps_calc_13  ps_calc_14  ps_calc_15_bin  \\\n",
       "0                9           1           5           8               0   \n",
       "1                3           1           1           9               0   \n",
       "2                4           2           7           7               0   \n",
       "3                2           2           4           9               0   \n",
       "4                3           1           1           3               0   \n",
       "...            ...         ...         ...         ...             ...   \n",
       "595207           4           1           9           6               0   \n",
       "595208           4           1           3           8               1   \n",
       "595209           3           2           2           6               0   \n",
       "595210           4           1           4           2               0   \n",
       "595211           4           4           3           8               0   \n",
       "\n",
       "        ps_calc_16_bin  ps_calc_17_bin  ps_calc_18_bin  ps_calc_19_bin  \\\n",
       "0                    1               1               0               0   \n",
       "1                    1               1               0               1   \n",
       "2                    1               1               0               1   \n",
       "3                    0               0               0               0   \n",
       "4                    0               0               1               1   \n",
       "...                ...             ...             ...             ...   \n",
       "595207               1               1               0               1   \n",
       "595208               0               1               0               1   \n",
       "595209               0               1               0               0   \n",
       "595210               1               1               1               0   \n",
       "595211               1               0               0               0   \n",
       "\n",
       "        ps_calc_20_bin  \n",
       "0                    1  \n",
       "1                    0  \n",
       "2                    0  \n",
       "3                    0  \n",
       "4                    0  \n",
       "...                ...  \n",
       "595207               1  \n",
       "595208               1  \n",
       "595209               0  \n",
       "595210               0  \n",
       "595211               0  \n",
       "\n",
       "[595212 rows x 59 columns]"
      ]
     },
     "execution_count": 4,
     "metadata": {},
     "output_type": "execute_result"
    }
   ],
   "source": [
    "df = pd.read_csv('/kaggle/input/auto-insurance-claim/AutoInsuranceClaim.csv')\n",
    "\n",
    "df"
   ]
  },
  {
   "cell_type": "code",
   "execution_count": null,
   "metadata": {
    "colab": {
     "base_uri": "https://localhost:8080/",
     "height": 1000
    },
    "execution": {
     "iopub.status.busy": "2024-12-06T16:29:14.099203Z",
     "iopub.status.idle": "2024-12-06T16:29:14.100491Z",
     "shell.execute_reply": "2024-12-06T16:29:14.100297Z",
     "shell.execute_reply.started": "2024-12-06T16:29:14.100271Z"
    },
    "id": "z0oXM0CFOAdp",
    "outputId": "483ba38c-1471-4ed3-c84f-ab4719171a03"
   },
   "outputs": [],
   "source": [
    "df.isnull().sum()"
   ]
  },
  {
   "cell_type": "code",
   "execution_count": null,
   "metadata": {
    "colab": {
     "base_uri": "https://localhost:8080/"
    },
    "execution": {
     "iopub.status.busy": "2024-12-06T16:29:14.101564Z",
     "iopub.status.idle": "2024-12-06T16:29:14.101951Z",
     "shell.execute_reply": "2024-12-06T16:29:14.101802Z",
     "shell.execute_reply.started": "2024-12-06T16:29:14.101783Z"
    },
    "id": "g2gudbElSsKg",
    "outputId": "24710d21-73dc-4810-d9e7-a919a05e12c6"
   },
   "outputs": [],
   "source": [
    "print(df['ps_ind_02_cat'].value_counts())\n",
    "\n",
    "missing_percentage = df['ps_ind_02_cat'].isnull().mean() * 100\n",
    "\n",
    "print(f\"Missing Percentage: {missing_percentage:.2f}%\")\n",
    "\n",
    "print(df['ps_ind_02_cat'].isnull().sum())"
   ]
  },
  {
   "cell_type": "code",
   "execution_count": null,
   "metadata": {
    "colab": {
     "base_uri": "https://localhost:8080/"
    },
    "execution": {
     "iopub.status.busy": "2024-12-06T16:29:14.103183Z",
     "iopub.status.idle": "2024-12-06T16:29:14.103512Z",
     "shell.execute_reply": "2024-12-06T16:29:14.103364Z",
     "shell.execute_reply.started": "2024-12-06T16:29:14.103349Z"
    },
    "id": "i1I-Iqexax1B",
    "outputId": "fbda0388-0162-4d7e-ebc5-89a1df3a5e1d"
   },
   "outputs": [],
   "source": [
    "print(df['ps_ind_04_cat'].value_counts())\n",
    "\n",
    "missing_percentage = df['ps_ind_04_cat'].isnull().mean() * 100\n",
    "\n",
    "print(f\"Missing Percentage: {missing_percentage:.2f}%\")\n",
    "\n",
    "print(df['ps_ind_04_cat'].isnull().sum())"
   ]
  },
  {
   "cell_type": "code",
   "execution_count": null,
   "metadata": {
    "colab": {
     "base_uri": "https://localhost:8080/"
    },
    "execution": {
     "iopub.status.busy": "2024-12-06T16:29:14.104696Z",
     "iopub.status.idle": "2024-12-06T16:29:14.105036Z",
     "shell.execute_reply": "2024-12-06T16:29:14.104889Z",
     "shell.execute_reply.started": "2024-12-06T16:29:14.104871Z"
    },
    "id": "Q06m9rj_UUxi",
    "outputId": "b18f39bf-6fbb-42fc-c459-d89a6416d7d7"
   },
   "outputs": [],
   "source": [
    "print(df['ps_ind_05_cat'].value_counts())\n",
    "\n",
    "missing_percentage = df['ps_ind_05_cat'].isnull().mean() * 100\n",
    "\n",
    "print(f\"Missing Percentage: {missing_percentage:.2f}%\")\n",
    "\n",
    "print(df['ps_ind_05_cat'].isnull().sum())"
   ]
  },
  {
   "cell_type": "code",
   "execution_count": null,
   "metadata": {
    "colab": {
     "base_uri": "https://localhost:8080/"
    },
    "execution": {
     "iopub.status.busy": "2024-12-06T16:29:14.107057Z",
     "iopub.status.idle": "2024-12-06T16:29:14.107443Z",
     "shell.execute_reply": "2024-12-06T16:29:14.107271Z",
     "shell.execute_reply.started": "2024-12-06T16:29:14.107253Z"
    },
    "id": "9ycIxwVDak88",
    "outputId": "487f59a1-d5ca-49d8-aa44-7f48da2bc571"
   },
   "outputs": [],
   "source": [
    "print(df['ps_reg_03'].value_counts())\n",
    "\n",
    "missing_percentage = df['ps_reg_03'].isnull().mean() * 100\n",
    "\n",
    "print(f\"Missing Percentage: {missing_percentage:.2f}%\")\n",
    "\n",
    "print(df['ps_reg_03'].isnull().sum())"
   ]
  },
  {
   "cell_type": "code",
   "execution_count": null,
   "metadata": {
    "colab": {
     "base_uri": "https://localhost:8080/"
    },
    "execution": {
     "iopub.status.busy": "2024-12-06T16:29:14.108517Z",
     "iopub.status.idle": "2024-12-06T16:29:14.108890Z",
     "shell.execute_reply": "2024-12-06T16:29:14.108742Z",
     "shell.execute_reply.started": "2024-12-06T16:29:14.108723Z"
    },
    "id": "NARRpFl6bQKU",
    "outputId": "a9e2c5f6-c916-40d5-ff9a-35813c4b2ff2"
   },
   "outputs": [],
   "source": [
    "print(df['ps_car_01_cat'].value_counts())\n",
    "\n",
    "missing_percentage = df['ps_car_01_cat'].isnull().mean() * 100\n",
    "\n",
    "print(f\"Missing Percentage: {missing_percentage:.2f}%\")\n",
    "\n",
    "print(df['ps_car_01_cat'].isnull().sum())"
   ]
  },
  {
   "cell_type": "code",
   "execution_count": null,
   "metadata": {
    "colab": {
     "base_uri": "https://localhost:8080/"
    },
    "execution": {
     "iopub.status.busy": "2024-12-06T16:29:14.109787Z",
     "iopub.status.idle": "2024-12-06T16:29:14.110117Z",
     "shell.execute_reply": "2024-12-06T16:29:14.109971Z",
     "shell.execute_reply.started": "2024-12-06T16:29:14.109954Z"
    },
    "id": "NpjutdpTR1bB",
    "outputId": "cc406b6d-411b-4e10-c315-fdfa23fb5fd2"
   },
   "outputs": [],
   "source": [
    "print(df['ps_car_03_cat'].value_counts())\n",
    "\n",
    "missing_percentage = df['ps_car_03_cat'].isnull().mean() * 100\n",
    "\n",
    "print(f\"Missing Percentage: {missing_percentage:.2f}%\")\n",
    "\n",
    "print(df['ps_car_03_cat'].isnull().sum())"
   ]
  },
  {
   "cell_type": "code",
   "execution_count": null,
   "metadata": {
    "colab": {
     "base_uri": "https://localhost:8080/"
    },
    "execution": {
     "iopub.status.busy": "2024-12-06T16:29:14.111187Z",
     "iopub.status.idle": "2024-12-06T16:29:14.111503Z",
     "shell.execute_reply": "2024-12-06T16:29:14.111354Z",
     "shell.execute_reply.started": "2024-12-06T16:29:14.111339Z"
    },
    "id": "mfK76F2hSzZm",
    "outputId": "65328e20-3f51-4e08-c3f6-9dca6f91d702"
   },
   "outputs": [],
   "source": [
    "print(df['ps_car_05_cat'].value_counts())\n",
    "\n",
    "missing_percentage = df['ps_car_05_cat'].isnull().mean() * 100\n",
    "\n",
    "print(f\"Missing Percentage: {missing_percentage:.2f}%\")\n",
    "\n",
    "print(df['ps_car_05_cat'].isnull().sum())\n"
   ]
  },
  {
   "cell_type": "code",
   "execution_count": null,
   "metadata": {
    "colab": {
     "base_uri": "https://localhost:8080/"
    },
    "execution": {
     "iopub.status.busy": "2024-12-06T16:29:14.113499Z",
     "iopub.status.idle": "2024-12-06T16:29:14.113898Z",
     "shell.execute_reply": "2024-12-06T16:29:14.113717Z",
     "shell.execute_reply.started": "2024-12-06T16:29:14.113698Z"
    },
    "id": "qjo-KdNEdTmy",
    "outputId": "90c8f2c9-01fd-4874-8afd-57236dea6119"
   },
   "outputs": [],
   "source": [
    "print(df['ps_car_07_cat'].value_counts())\n",
    "\n",
    "missing_percentage = df['ps_car_07_cat'].isnull().mean() * 100\n",
    "\n",
    "print(f\"Missing Percentage: {missing_percentage:.2f}%\")\n",
    "\n",
    "print(df['ps_car_07_cat'].isnull().sum())"
   ]
  },
  {
   "cell_type": "code",
   "execution_count": null,
   "metadata": {
    "colab": {
     "base_uri": "https://localhost:8080/"
    },
    "execution": {
     "iopub.status.busy": "2024-12-06T16:29:14.115113Z",
     "iopub.status.idle": "2024-12-06T16:29:14.115477Z",
     "shell.execute_reply": "2024-12-06T16:29:14.115329Z",
     "shell.execute_reply.started": "2024-12-06T16:29:14.115311Z"
    },
    "id": "3WDYICC-daMG",
    "outputId": "4e82cdd8-47b9-458f-c345-832a05fb165b"
   },
   "outputs": [],
   "source": [
    "print(df['ps_car_09_cat'].value_counts())\n",
    "\n",
    "missing_percentage = df['ps_car_09_cat'].isnull().mean() * 100\n",
    "\n",
    "print(f\"Missing Percentage: {missing_percentage:.2f}%\")\n",
    "\n",
    "print(df['ps_car_09_cat'].isnull().sum())"
   ]
  },
  {
   "cell_type": "code",
   "execution_count": null,
   "metadata": {
    "colab": {
     "base_uri": "https://localhost:8080/"
    },
    "execution": {
     "iopub.status.busy": "2024-12-06T16:29:14.116565Z",
     "iopub.status.idle": "2024-12-06T16:29:14.116928Z",
     "shell.execute_reply": "2024-12-06T16:29:14.116784Z",
     "shell.execute_reply.started": "2024-12-06T16:29:14.116765Z"
    },
    "id": "kcafbSXnd3Wq",
    "outputId": "72f84b78-62e0-429d-9c9c-babb507cf049"
   },
   "outputs": [],
   "source": [
    "\n",
    "\n",
    "print(df['ps_car_11'].value_counts())\n",
    "\n",
    "missing_percentage = df['ps_car_11'].isnull().mean() * 100\n",
    "\n",
    "print(f\"Missing Percentage: {missing_percentage:.2f}%\")\n",
    "\n",
    "print(df['ps_car_11'].isnull().sum())"
   ]
  },
  {
   "cell_type": "code",
   "execution_count": null,
   "metadata": {
    "colab": {
     "base_uri": "https://localhost:8080/"
    },
    "execution": {
     "iopub.status.busy": "2024-12-06T16:29:14.117870Z",
     "iopub.status.idle": "2024-12-06T16:29:14.118176Z",
     "shell.execute_reply": "2024-12-06T16:29:14.118036Z",
     "shell.execute_reply.started": "2024-12-06T16:29:14.118021Z"
    },
    "id": "YLnpGOeld_lF",
    "outputId": "fe7bebbd-2d7b-4f85-a561-163f091cd803"
   },
   "outputs": [],
   "source": [
    "\n",
    "\n",
    "print(df['ps_car_12'].value_counts())\n",
    "\n",
    "missing_percentage = df['ps_car_12'].isnull().mean() * 100\n",
    "\n",
    "print(f\"Missing Percentage: {missing_percentage:.2f}%\")\n",
    "\n",
    "print(df['ps_car_12'].isnull().sum())"
   ]
  },
  {
   "cell_type": "code",
   "execution_count": null,
   "metadata": {
    "colab": {
     "base_uri": "https://localhost:8080/"
    },
    "execution": {
     "iopub.status.busy": "2024-12-06T16:29:14.119321Z",
     "iopub.status.idle": "2024-12-06T16:29:14.119722Z",
     "shell.execute_reply": "2024-12-06T16:29:14.119529Z",
     "shell.execute_reply.started": "2024-12-06T16:29:14.119511Z"
    },
    "id": "pt18OdR9eNwx",
    "outputId": "c68bad4d-0c89-40b2-ad6b-0d892fb01584"
   },
   "outputs": [],
   "source": [
    "\n",
    "\n",
    "print(df['ps_car_14'].value_counts())\n",
    "\n",
    "missing_percentage = df['ps_car_14'].isnull().mean() * 100\n",
    "\n",
    "print(f\"Missing Percentage: {missing_percentage:.2f}%\")\n",
    "\n",
    "print(df['ps_car_14'].isnull().sum())"
   ]
  },
  {
   "cell_type": "code",
   "execution_count": null,
   "metadata": {
    "colab": {
     "base_uri": "https://localhost:8080/",
     "height": 256
    },
    "execution": {
     "iopub.status.busy": "2024-12-06T16:29:14.120897Z",
     "iopub.status.idle": "2024-12-06T16:29:14.121213Z",
     "shell.execute_reply": "2024-12-06T16:29:14.121064Z",
     "shell.execute_reply.started": "2024-12-06T16:29:14.121049Z"
    },
    "id": "iLgZYylTTZs3",
    "outputId": "8d444b98-11fd-4289-9c97-e9ac7eba2938"
   },
   "outputs": [],
   "source": [
    "df = df.drop(columns=['ps_reg_03','ps_car_03_cat','ps_car_05_cat'])\n",
    "\n",
    "df.head()"
   ]
  },
  {
   "cell_type": "code",
   "execution_count": null,
   "metadata": {
    "colab": {
     "base_uri": "https://localhost:8080/",
     "height": 1000
    },
    "execution": {
     "iopub.status.busy": "2024-12-06T16:29:14.122154Z",
     "iopub.status.idle": "2024-12-06T16:29:14.122492Z",
     "shell.execute_reply": "2024-12-06T16:29:14.122338Z",
     "shell.execute_reply.started": "2024-12-06T16:29:14.122320Z"
    },
    "id": "tEOULrSbUv6H",
    "outputId": "1d744dd0-570e-46c5-aff7-668ee50e43b8"
   },
   "outputs": [],
   "source": [
    "df.isnull().sum()"
   ]
  },
  {
   "cell_type": "markdown",
   "metadata": {
    "id": "orJzkqO-omLh"
   },
   "source": [
    "Filling NUll Values"
   ]
  },
  {
   "cell_type": "code",
   "execution_count": null,
   "metadata": {
    "colab": {
     "base_uri": "https://localhost:8080/"
    },
    "execution": {
     "iopub.status.busy": "2024-12-06T16:29:14.123967Z",
     "iopub.status.idle": "2024-12-06T16:29:14.124461Z",
     "shell.execute_reply": "2024-12-06T16:29:14.124232Z",
     "shell.execute_reply.started": "2024-12-06T16:29:14.124207Z"
    },
    "id": "mPFyO4C4b6P6",
    "outputId": "9ff30234-aa34-4c1a-b335-b952f578896d"
   },
   "outputs": [],
   "source": [
    "mode_value = df['ps_ind_02_cat'].mode()[0]\n",
    "\n",
    "df['ps_ind_02_cat'].fillna(mode_value, inplace=True)"
   ]
  },
  {
   "cell_type": "code",
   "execution_count": null,
   "metadata": {
    "colab": {
     "base_uri": "https://localhost:8080/"
    },
    "execution": {
     "iopub.status.busy": "2024-12-06T16:29:14.125477Z",
     "iopub.status.idle": "2024-12-06T16:29:14.125981Z",
     "shell.execute_reply": "2024-12-06T16:29:14.125754Z",
     "shell.execute_reply.started": "2024-12-06T16:29:14.125729Z"
    },
    "id": "4vg_02CnorVb",
    "outputId": "f1b7999f-c07f-403c-be54-e5687b2aad45"
   },
   "outputs": [],
   "source": [
    "mode_value = df['ps_ind_04_cat'].mode()[0]\n",
    "\n",
    "df['ps_ind_04_cat'].fillna(mode_value, inplace=True)"
   ]
  },
  {
   "cell_type": "code",
   "execution_count": null,
   "metadata": {
    "colab": {
     "base_uri": "https://localhost:8080/"
    },
    "execution": {
     "iopub.status.busy": "2024-12-06T16:29:14.127538Z",
     "iopub.status.idle": "2024-12-06T16:29:14.128031Z",
     "shell.execute_reply": "2024-12-06T16:29:14.127810Z",
     "shell.execute_reply.started": "2024-12-06T16:29:14.127786Z"
    },
    "id": "QFp9wiMKoyNz",
    "outputId": "08e83c70-d6f8-4209-c43e-302e7b87dc41"
   },
   "outputs": [],
   "source": [
    "mode_value = df['ps_ind_05_cat'].mode()[0]\n",
    "\n",
    "df['ps_ind_05_cat'].fillna(mode_value, inplace=True)"
   ]
  },
  {
   "cell_type": "code",
   "execution_count": null,
   "metadata": {
    "colab": {
     "base_uri": "https://localhost:8080/"
    },
    "execution": {
     "iopub.status.busy": "2024-12-06T16:29:14.130231Z",
     "iopub.status.idle": "2024-12-06T16:29:14.130546Z",
     "shell.execute_reply": "2024-12-06T16:29:14.130411Z",
     "shell.execute_reply.started": "2024-12-06T16:29:14.130395Z"
    },
    "id": "Cv5uJ6KZqLSP",
    "outputId": "044ecb3a-8241-4b74-fc9c-980568d879e9"
   },
   "outputs": [],
   "source": [
    "mode_value = df['ps_car_01_cat'].mode()[0]\n",
    "\n",
    "df['ps_car_01_cat'].fillna(mode_value, inplace=True)"
   ]
  },
  {
   "cell_type": "code",
   "execution_count": null,
   "metadata": {
    "colab": {
     "base_uri": "https://localhost:8080/"
    },
    "execution": {
     "iopub.status.busy": "2024-12-06T16:29:14.131537Z",
     "iopub.status.idle": "2024-12-06T16:29:14.131896Z",
     "shell.execute_reply": "2024-12-06T16:29:14.131754Z",
     "shell.execute_reply.started": "2024-12-06T16:29:14.131736Z"
    },
    "id": "1OfgmO8zqmXa",
    "outputId": "b40c9f50-19a2-4666-b268-32ba64d88935"
   },
   "outputs": [],
   "source": [
    "mode_value = df['ps_car_07_cat'].mode()[0]\n",
    "\n",
    "df['ps_car_07_cat'].fillna(mode_value, inplace=True)"
   ]
  },
  {
   "cell_type": "code",
   "execution_count": null,
   "metadata": {
    "colab": {
     "base_uri": "https://localhost:8080/"
    },
    "execution": {
     "iopub.status.busy": "2024-12-06T16:29:14.133044Z",
     "iopub.status.idle": "2024-12-06T16:29:14.133379Z",
     "shell.execute_reply": "2024-12-06T16:29:14.133226Z",
     "shell.execute_reply.started": "2024-12-06T16:29:14.133208Z"
    },
    "id": "cZ1DDjWXq3Cp",
    "outputId": "b32b2218-4e54-4030-aa49-71b08dfa0a01"
   },
   "outputs": [],
   "source": [
    "mode_value = df['ps_car_09_cat'].mode()[0]\n",
    "\n",
    "df['ps_car_09_cat'].fillna(mode_value, inplace=True)"
   ]
  },
  {
   "cell_type": "code",
   "execution_count": null,
   "metadata": {
    "colab": {
     "base_uri": "https://localhost:8080/"
    },
    "execution": {
     "iopub.status.busy": "2024-12-06T16:29:14.134932Z",
     "iopub.status.idle": "2024-12-06T16:29:14.135241Z",
     "shell.execute_reply": "2024-12-06T16:29:14.135104Z",
     "shell.execute_reply.started": "2024-12-06T16:29:14.135088Z"
    },
    "id": "iIl0XipirHXN",
    "outputId": "1bf3f6d3-8b58-4ea4-c2ac-d093666c2175"
   },
   "outputs": [],
   "source": [
    "mode_value = df['ps_car_11'].mode()[0]\n",
    "\n",
    "df['ps_car_11'].fillna(mode_value, inplace=True)"
   ]
  },
  {
   "cell_type": "code",
   "execution_count": null,
   "metadata": {
    "colab": {
     "base_uri": "https://localhost:8080/"
    },
    "execution": {
     "iopub.status.busy": "2024-12-06T16:29:14.136477Z",
     "iopub.status.idle": "2024-12-06T16:29:14.136865Z",
     "shell.execute_reply": "2024-12-06T16:29:14.136710Z",
     "shell.execute_reply.started": "2024-12-06T16:29:14.136689Z"
    },
    "id": "w_6V-rSFrJOT",
    "outputId": "d6c7d84b-ad4f-4275-d5ed-8b3a295f7969"
   },
   "outputs": [],
   "source": [
    "mode_value = df['ps_car_12'].mode()[0]\n",
    "\n",
    "df['ps_car_12'].fillna(mode_value, inplace=True)"
   ]
  },
  {
   "cell_type": "code",
   "execution_count": null,
   "metadata": {
    "colab": {
     "base_uri": "https://localhost:8080/"
    },
    "execution": {
     "iopub.status.busy": "2024-12-06T16:29:14.139173Z",
     "iopub.status.idle": "2024-12-06T16:29:14.139505Z",
     "shell.execute_reply": "2024-12-06T16:29:14.139363Z",
     "shell.execute_reply.started": "2024-12-06T16:29:14.139347Z"
    },
    "id": "gx6gRdC0rQOi",
    "outputId": "ac6baecf-6b15-41f0-f335-d50fabd53d63"
   },
   "outputs": [],
   "source": [
    "df['ps_car_14'].fillna(0.3696134, inplace=True)"
   ]
  },
  {
   "cell_type": "code",
   "execution_count": null,
   "metadata": {
    "colab": {
     "base_uri": "https://localhost:8080/",
     "height": 1000
    },
    "execution": {
     "iopub.status.busy": "2024-12-06T16:29:14.140900Z",
     "iopub.status.idle": "2024-12-06T16:29:14.141236Z",
     "shell.execute_reply": "2024-12-06T16:29:14.141090Z",
     "shell.execute_reply.started": "2024-12-06T16:29:14.141072Z"
    },
    "id": "Dby-0voVsWeM",
    "outputId": "a98e7536-a5ea-4a8b-fc6e-07f8dffa473d"
   },
   "outputs": [],
   "source": [
    "df.isnull().sum()"
   ]
  },
  {
   "cell_type": "code",
   "execution_count": null,
   "metadata": {
    "colab": {
     "base_uri": "https://localhost:8080/",
     "height": 444
    },
    "execution": {
     "iopub.status.busy": "2024-12-06T16:29:14.142392Z",
     "iopub.status.idle": "2024-12-06T16:29:14.142751Z",
     "shell.execute_reply": "2024-12-06T16:29:14.142593Z",
     "shell.execute_reply.started": "2024-12-06T16:29:14.142559Z"
    },
    "id": "e_npGlPJsZ_Z",
    "outputId": "f6ba105a-afbc-4c15-8641-4aa5aca24696"
   },
   "outputs": [],
   "source": [
    "df.drop(columns=['id'],inplace=True)\n",
    "\n",
    "df"
   ]
  },
  {
   "cell_type": "code",
   "execution_count": null,
   "metadata": {
    "colab": {
     "base_uri": "https://localhost:8080/"
    },
    "execution": {
     "iopub.status.busy": "2024-12-06T16:29:14.144205Z",
     "iopub.status.idle": "2024-12-06T16:29:14.144714Z",
     "shell.execute_reply": "2024-12-06T16:29:14.144469Z",
     "shell.execute_reply.started": "2024-12-06T16:29:14.144443Z"
    },
    "id": "SoBlP4whtZ7B",
    "outputId": "14e2e790-ebe0-4c28-b78b-cfea39a25896"
   },
   "outputs": [],
   "source": [
    "print(df.dtypes)"
   ]
  },
  {
   "cell_type": "code",
   "execution_count": null,
   "metadata": {
    "colab": {
     "base_uri": "https://localhost:8080/",
     "height": 350
    },
    "execution": {
     "iopub.status.busy": "2024-12-06T16:29:14.145891Z",
     "iopub.status.idle": "2024-12-06T16:29:14.146382Z",
     "shell.execute_reply": "2024-12-06T16:29:14.146140Z",
     "shell.execute_reply.started": "2024-12-06T16:29:14.146116Z"
    },
    "id": "0kWhy2yRvGVg",
    "outputId": "b660d470-990c-48b4-9de5-3941a98c8055"
   },
   "outputs": [],
   "source": [
    "df.describe()"
   ]
  },
  {
   "cell_type": "code",
   "execution_count": null,
   "metadata": {
    "execution": {
     "iopub.status.busy": "2024-12-06T16:29:14.147823Z",
     "iopub.status.idle": "2024-12-06T16:29:14.148298Z",
     "shell.execute_reply": "2024-12-06T16:29:14.148073Z",
     "shell.execute_reply.started": "2024-12-06T16:29:14.148047Z"
    },
    "id": "gINReKkOrPfo"
   },
   "outputs": [],
   "source": [
    "from sklearn.model_selection import train_test_split\n",
    "\n",
    "from sklearn.model_selection import cross_val_score\n",
    "\n",
    "\n",
    "\n",
    "from sklearn.linear_model import LinearRegression\n",
    "\n",
    "from sklearn.linear_model import LogisticRegression\n",
    "\n",
    "\n",
    "\n",
    "from sklearn.metrics import r2_score\n",
    "\n",
    "\n",
    "\n",
    "from sklearn.preprocessing import PowerTransformer"
   ]
  },
  {
   "cell_type": "code",
   "execution_count": null,
   "metadata": {
    "execution": {
     "iopub.status.busy": "2024-12-06T16:29:14.149465Z",
     "iopub.status.idle": "2024-12-06T16:29:14.150023Z",
     "shell.execute_reply": "2024-12-06T16:29:14.149730Z",
     "shell.execute_reply.started": "2024-12-06T16:29:14.149705Z"
    },
    "id": "BBsi3CT1wBFH"
   },
   "outputs": [],
   "source": [
    "X = df.drop(columns=['target'])\n",
    "\n",
    "y= df['target']"
   ]
  },
  {
   "cell_type": "code",
   "execution_count": null,
   "metadata": {
    "execution": {
     "iopub.status.busy": "2024-12-06T16:29:14.152101Z",
     "iopub.status.idle": "2024-12-06T16:29:14.152643Z",
     "shell.execute_reply": "2024-12-06T16:29:14.152362Z",
     "shell.execute_reply.started": "2024-12-06T16:29:14.152326Z"
    },
    "id": "aNkG3FDowzkE"
   },
   "outputs": [],
   "source": [
    "X_train, X_test, y_train, y_test = train_test_split(X,y,test_size=0.2,random_state=42)"
   ]
  },
  {
   "cell_type": "markdown",
   "metadata": {
    "id": "G5jPRG2ywuh4"
   },
   "source": [
    "Applying Regression without any transformation"
   ]
  },
  {
   "cell_type": "code",
   "execution_count": null,
   "metadata": {
    "colab": {
     "base_uri": "https://localhost:8080/"
    },
    "execution": {
     "iopub.status.busy": "2024-12-06T16:29:14.153842Z",
     "iopub.status.idle": "2024-12-06T16:29:14.154283Z",
     "shell.execute_reply": "2024-12-06T16:29:14.154100Z",
     "shell.execute_reply.started": "2024-12-06T16:29:14.154077Z"
    },
    "id": "SowH7w8VwZn9",
    "outputId": "ec542f80-d3fa-4de1-c4da-b25cf3e674e6"
   },
   "outputs": [],
   "source": [
    "lr = LinearRegression()\n",
    "\n",
    "\n",
    "\n",
    "lr.fit(X_train,y_train)\n",
    "\n",
    "\n",
    "\n",
    "y_pred = lr.predict(X_test)\n",
    "\n",
    "\n",
    "\n",
    "r2_score(y_test,y_pred)"
   ]
  },
  {
   "cell_type": "markdown",
   "metadata": {
    "id": "8OomvltFxCOF"
   },
   "source": [
    " Cross checking with cross val score"
   ]
  },
  {
   "cell_type": "code",
   "execution_count": null,
   "metadata": {
    "colab": {
     "base_uri": "https://localhost:8080/"
    },
    "execution": {
     "iopub.status.busy": "2024-12-06T16:29:14.155390Z",
     "iopub.status.idle": "2024-12-06T16:29:14.155764Z",
     "shell.execute_reply": "2024-12-06T16:29:14.155603Z",
     "shell.execute_reply.started": "2024-12-06T16:29:14.155564Z"
    },
    "id": "B4sybxYDxDHY",
    "outputId": "2c39d1fe-5f7b-4a39-8e9b-c0b8d5dd560b"
   },
   "outputs": [],
   "source": [
    "lr = LinearRegression()\n",
    "\n",
    "np.mean(cross_val_score(lr,X,y,scoring='r2'))"
   ]
  },
  {
   "cell_type": "code",
   "execution_count": null,
   "metadata": {
    "colab": {
     "base_uri": "https://localhost:8080/",
     "height": 1000
    },
    "execution": {
     "iopub.status.busy": "2024-12-06T16:29:14.158003Z",
     "iopub.status.idle": "2024-12-06T16:29:14.158494Z",
     "shell.execute_reply": "2024-12-06T16:29:14.158253Z",
     "shell.execute_reply.started": "2024-12-06T16:29:14.158227Z"
    },
    "id": "gOpsadVOxuYg",
    "outputId": "9d1e0716-b5db-4cba-902f-75241e53f3d4"
   },
   "outputs": [],
   "source": [
    "# Apply Yeo-Johnson transform\n",
    "\n",
    "\n",
    "\n",
    "pt1 = PowerTransformer()\n",
    "\n",
    "\n",
    "\n",
    "X_train_transformed2 = pt1.fit_transform(X_train)\n",
    "\n",
    "X_test_transformed2 = pt1.transform(X_test)\n",
    "\n",
    "\n",
    "\n",
    "lr = LinearRegression()\n",
    "\n",
    "lr.fit(X_train_transformed2,y_train)\n",
    "\n",
    "\n",
    "\n",
    "y_pred3 = lr.predict(X_test_transformed2)\n",
    "\n",
    "\n",
    "\n",
    "print(r2_score(y_test,y_pred3))\n",
    "\n",
    "\n",
    "\n",
    "pd.DataFrame({'cols':X_train.columns,'Yeo_Johnson_lambdas':pt1.lambdas_})"
   ]
  },
  {
   "cell_type": "code",
   "execution_count": null,
   "metadata": {
    "colab": {
     "base_uri": "https://localhost:8080/"
    },
    "execution": {
     "iopub.status.busy": "2024-12-06T16:29:14.159840Z",
     "iopub.status.idle": "2024-12-06T16:29:14.160327Z",
     "shell.execute_reply": "2024-12-06T16:29:14.160090Z",
     "shell.execute_reply.started": "2024-12-06T16:29:14.160065Z"
    },
    "id": "ywgLSE0nyEJb",
    "outputId": "2ad1977b-6f98-4c70-b607-9bc193ebd617"
   },
   "outputs": [],
   "source": [
    "# applying cross val score\n",
    "\n",
    "\n",
    "\n",
    "pt = PowerTransformer()\n",
    "\n",
    "X_transformed2 = pt.fit_transform(X)\n",
    "\n",
    "\n",
    "\n",
    "lr = LinearRegression()\n",
    "\n",
    "np.mean(cross_val_score(lr,X_transformed2,y,scoring='r2'))"
   ]
  },
  {
   "cell_type": "code",
   "execution_count": null,
   "metadata": {
    "execution": {
     "iopub.status.busy": "2024-12-06T16:29:14.161940Z",
     "iopub.status.idle": "2024-12-06T16:29:14.162459Z",
     "shell.execute_reply": "2024-12-06T16:29:14.162205Z",
     "shell.execute_reply.started": "2024-12-06T16:29:14.162179Z"
    },
    "id": "GyX_csCuyKph"
   },
   "outputs": [],
   "source": [
    "X_train_transformed2 = pd.DataFrame(X_train_transformed2,columns=X_train.columns)"
   ]
  },
  {
   "cell_type": "code",
   "execution_count": null,
   "metadata": {
    "colab": {
     "base_uri": "https://localhost:8080/",
     "height": 53
    },
    "execution": {
     "iopub.status.busy": "2024-12-06T16:29:14.164325Z",
     "iopub.status.idle": "2024-12-06T16:29:14.164745Z",
     "shell.execute_reply": "2024-12-06T16:29:14.164529Z",
     "shell.execute_reply.started": "2024-12-06T16:29:14.164511Z"
    },
    "id": "vIy4TMyEyLW5",
    "outputId": "5b03a9b4-4bca-48d6-dc9c-c61436e57966"
   },
   "outputs": [],
   "source": [
    "# Before and after comparision for Yeo-Johnson\n",
    "\n",
    "'''\n",
    "\n",
    "for col in X_train_transformed2.columns:\n",
    "\n",
    "    plt.figure(figsize=(14,4))\n",
    "\n",
    "    plt.subplot(121)\n",
    "\n",
    "    sns.distplot(X_train[col])\n",
    "\n",
    "    plt.title(col)\n",
    "\n",
    "\n",
    "\n",
    "    plt.subplot(122)\n",
    "\n",
    "    sns.distplot(X_train_transformed2[col])\n",
    "\n",
    "    plt.title(col)\n",
    "\n",
    "\n",
    "\n",
    "    plt.show()\n",
    "\n",
    "    '''"
   ]
  },
  {
   "cell_type": "markdown",
   "metadata": {
    "id": "_2xfZg08zvr1"
   },
   "source": [
    "LogisticRegression"
   ]
  },
  {
   "cell_type": "code",
   "execution_count": null,
   "metadata": {
    "execution": {
     "iopub.status.busy": "2024-12-06T16:29:14.165866Z",
     "iopub.status.idle": "2024-12-06T16:29:14.166245Z",
     "shell.execute_reply": "2024-12-06T16:29:14.166084Z",
     "shell.execute_reply.started": "2024-12-06T16:29:14.166065Z"
    },
    "id": "9M094mIszs_k"
   },
   "outputs": [],
   "source": [
    "lg = LogisticRegression()\n",
    "\n",
    "lr.fit(X_train,y_train)\n",
    "\n",
    "\n",
    "\n",
    "y_pred = lr.predict(X_test)\n",
    "\n",
    "\n",
    "\n",
    "r2_score(y_test,y_pred)"
   ]
  },
  {
   "cell_type": "code",
   "execution_count": null,
   "metadata": {
    "colab": {
     "base_uri": "https://localhost:8080/"
    },
    "execution": {
     "iopub.status.busy": "2024-12-06T16:29:14.167172Z",
     "iopub.status.idle": "2024-12-06T16:29:14.167507Z",
     "shell.execute_reply": "2024-12-06T16:29:14.167361Z",
     "shell.execute_reply.started": "2024-12-06T16:29:14.167335Z"
    },
    "id": "SvFsMhWb0HLm",
    "outputId": "52f6a43f-a4bf-4050-a121-5efdf2132058"
   },
   "outputs": [],
   "source": [
    "from sklearn.tree import DecisionTreeClassifier\n",
    "\n",
    "clf = DecisionTreeClassifier()\n",
    "\n",
    "clf.fit(X_train, y_train)\n",
    "\n",
    "y_pred = clf.predict(X_test)\n",
    "\n",
    "r2_score(y_test,y_pred)"
   ]
  },
  {
   "cell_type": "code",
   "execution_count": null,
   "metadata": {
    "colab": {
     "base_uri": "https://localhost:8080/"
    },
    "execution": {
     "iopub.status.busy": "2024-12-06T16:29:14.168423Z",
     "iopub.status.idle": "2024-12-06T16:29:14.168803Z",
     "shell.execute_reply": "2024-12-06T16:29:14.168655Z",
     "shell.execute_reply.started": "2024-12-06T16:29:14.168636Z"
    },
    "id": "fWxle80o_79Y",
    "outputId": "7684815f-fa47-4e1f-f146-7aab117ae68c"
   },
   "outputs": [],
   "source": [
    "from sklearn.ensemble import RandomForestClassifier\n",
    "\n",
    "clf2 = RandomForestClassifier(n_estimators=100, random_state=42)\n",
    "\n",
    "clf2.fit(X_train, y_train)\n",
    "\n",
    "y_pred = clf2.predict(X_test)\n",
    "\n",
    "r2_score(y_test,y_pred)\n"
   ]
  },
  {
   "cell_type": "code",
   "execution_count": null,
   "metadata": {
    "colab": {
     "base_uri": "https://localhost:8080/"
    },
    "execution": {
     "iopub.status.busy": "2024-12-06T16:29:14.170090Z",
     "iopub.status.idle": "2024-12-06T16:29:14.170450Z",
     "shell.execute_reply": "2024-12-06T16:29:14.170267Z",
     "shell.execute_reply.started": "2024-12-06T16:29:14.170251Z"
    },
    "id": "o6VZB69XAyPN",
    "outputId": "fa7cb7c7-3859-4a11-eecd-4a52190601a7"
   },
   "outputs": [],
   "source": [
    "from sklearn.neighbors import KNeighborsClassifier\n",
    "\n",
    "knn = KNeighborsClassifier(n_neighbors=3)\n",
    "\n",
    "knn.fit(X_train, y_train)\n",
    "\n",
    "y_pred = knn.predict(X_test)\n",
    "\n",
    "r2_score(y_test,y_pred)"
   ]
  },
  {
   "cell_type": "code",
   "execution_count": null,
   "metadata": {
    "execution": {
     "iopub.status.busy": "2024-12-06T16:29:14.171517Z",
     "iopub.status.idle": "2024-12-06T16:29:14.172199Z",
     "shell.execute_reply": "2024-12-06T16:29:14.171950Z",
     "shell.execute_reply.started": "2024-12-06T16:29:14.171920Z"
    },
    "id": "3QjDYVHDDGTk"
   },
   "outputs": [],
   "source": [
    "from sklearn.neighbors import KNeighborsRegressor\n",
    "\n",
    "knn_regressor = KNeighborsRegressor(n_neighbors=3)\n",
    "\n",
    "knn_regressor.fit(X_train, y_train)\n",
    "\n",
    "y_pred = knn_regressor.predict(X_test)\n",
    "\n",
    "r2_score(y_test,y_pred)"
   ]
  },
  {
   "cell_type": "code",
   "execution_count": null,
   "metadata": {
    "execution": {
     "iopub.status.busy": "2024-12-06T16:29:14.173529Z",
     "iopub.status.idle": "2024-12-06T16:29:14.173930Z",
     "shell.execute_reply": "2024-12-06T16:29:14.173770Z",
     "shell.execute_reply.started": "2024-12-06T16:29:14.173745Z"
    },
    "id": "v0a2w3x1Ca_M"
   },
   "outputs": [],
   "source": [
    "from sklearn.svm import SVC\n",
    "\n",
    "svm = SVC(kernel='linear', C=1.0, random_state=42)\n",
    "\n",
    "svm.fit(X_train, y_train)\n",
    "\n",
    "y_pred = svm.predict(X_test)\n",
    "\n",
    "r2_score(y_test,y_pred)\n"
   ]
  },
  {
   "cell_type": "code",
   "execution_count": null,
   "metadata": {
    "execution": {
     "iopub.status.busy": "2024-12-06T16:29:14.174901Z",
     "iopub.status.idle": "2024-12-06T16:29:14.175233Z",
     "shell.execute_reply": "2024-12-06T16:29:14.175086Z",
     "shell.execute_reply.started": "2024-12-06T16:29:14.175068Z"
    },
    "id": "MMGK4O6xCgis"
   },
   "outputs": [],
   "source": [
    "from sklearn.naive_bayes import GaussianNB\n",
    "\n",
    "gnb = GaussianNB()\n",
    "\n",
    "gnb.fit(X_train, y_train)\n",
    "\n",
    "y_pred = gnb.predict(X_test)\n",
    "\n",
    "r2_score(y_test,y_pred)"
   ]
  }
 ],
 "metadata": {
  "colab": {
   "provenance": []
  },
  "kaggle": {
   "accelerator": "none",
   "dataSources": [
    {
     "datasetId": 6245297,
     "sourceId": 10121252,
     "sourceType": "datasetVersion"
    }
   ],
   "dockerImageVersionId": 30804,
   "isGpuEnabled": false,
   "isInternetEnabled": true,
   "language": "python",
   "sourceType": "notebook"
  },
  "kernelspec": {
   "display_name": "Python 3 (ipykernel)",
   "language": "python",
   "name": "python3"
  },
  "language_info": {
   "codemirror_mode": {
    "name": "ipython",
    "version": 3
   },
   "file_extension": ".py",
   "mimetype": "text/x-python",
   "name": "python",
   "nbconvert_exporter": "python",
   "pygments_lexer": "ipython3",
   "version": "3.11.7"
  }
 },
 "nbformat": 4,
 "nbformat_minor": 4
}
