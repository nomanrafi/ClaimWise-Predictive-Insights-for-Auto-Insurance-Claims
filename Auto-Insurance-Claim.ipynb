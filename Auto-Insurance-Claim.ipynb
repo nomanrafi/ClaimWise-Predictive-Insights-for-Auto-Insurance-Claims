{
 "cells": [
  {
   "cell_type": "code",
   "execution_count": 38,
   "metadata": {},
   "outputs": [
    {
     "name": "stdout",
     "output_type": "stream",
     "text": [
      "Requirement already satisfied: xgboost in c:\\users\\noman\\anaconda3\\lib\\site-packages (2.1.3)\n",
      "Requirement already satisfied: numpy in c:\\users\\noman\\anaconda3\\lib\\site-packages (from xgboost) (1.26.4)\n",
      "Requirement already satisfied: scipy in c:\\users\\noman\\anaconda3\\lib\\site-packages (from xgboost) (1.11.4)\n"
     ]
    }
   ],
   "source": [
    "!pip install xgboost"
   ]
  },
  {
   "cell_type": "code",
   "execution_count": 39,
   "metadata": {
    "id": "5djI2WJ4Nhzg"
   },
   "outputs": [],
   "source": [
    "import numpy as np\n",
    "import pandas as pd\n",
    "import seaborn as sns\n",
    "import matplotlib.pyplot as plt\n",
    "from sklearn.preprocessing import LabelEncoder\n",
    "from sklearn.model_selection import train_test_split\n",
    "from sklearn.preprocessing import StandardScaler, LabelEncoder\n",
    "from sklearn.ensemble import RandomForestRegressor\n",
    "from sklearn.metrics import mean_absolute_error, mean_squared_error, r2_score\n",
    "from sklearn.linear_model import LinearRegression\n",
    "\n",
    "import scipy.stats as stats"
   ]
  },
  {
   "cell_type": "code",
   "execution_count": 40,
   "metadata": {
    "colab": {
     "base_uri": "https://localhost:8080/"
    },
    "id": "OXKDbrVgNtSJ",
    "outputId": "5de7ee20-b601-479e-97bb-a734c246aa36"
   },
   "outputs": [
    {
     "ename": "ModuleNotFoundError",
     "evalue": "No module named 'google.colab'",
     "output_type": "error",
     "traceback": [
      "\u001b[1;31m---------------------------------------------------------------------------\u001b[0m",
      "\u001b[1;31mModuleNotFoundError\u001b[0m                       Traceback (most recent call last)",
      "Cell \u001b[1;32mIn[40], line 1\u001b[0m\n\u001b[1;32m----> 1\u001b[0m \u001b[38;5;28;01mfrom\u001b[39;00m \u001b[38;5;21;01mgoogle\u001b[39;00m\u001b[38;5;21;01m.\u001b[39;00m\u001b[38;5;21;01mcolab\u001b[39;00m \u001b[38;5;28;01mimport\u001b[39;00m drive\n\u001b[0;32m      2\u001b[0m drive\u001b[38;5;241m.\u001b[39mmount(\u001b[38;5;124m'\u001b[39m\u001b[38;5;124m/content/drive\u001b[39m\u001b[38;5;124m'\u001b[39m)\n",
      "\u001b[1;31mModuleNotFoundError\u001b[0m: No module named 'google.colab'"
     ]
    }
   ],
   "source": [
    "from google.colab import drive\n",
    "drive.mount('/content/drive')"
   ]
  },
  {
   "cell_type": "code",
   "execution_count": null,
   "metadata": {
    "colab": {
     "base_uri": "https://localhost:8080/",
     "height": 444
    },
    "id": "GeOeDeq0N7K5",
    "outputId": "a1738e8a-2758-4752-af24-3d260e10136c"
   },
   "outputs": [],
   "source": [
    "df = pd.read_csv(\"/content/drive/MyDrive/ML Dataset/Dataset/AutoInsuranceClaim.csv\")\n",
    "df"
   ]
  },
  {
   "cell_type": "code",
   "execution_count": null,
   "metadata": {
    "colab": {
     "base_uri": "https://localhost:8080/",
     "height": 1000
    },
    "id": "z0oXM0CFOAdp",
    "outputId": "483ba38c-1471-4ed3-c84f-ab4719171a03"
   },
   "outputs": [],
   "source": [
    "df.isnull().sum()"
   ]
  },
  {
   "cell_type": "code",
   "execution_count": null,
   "metadata": {
    "colab": {
     "base_uri": "https://localhost:8080/"
    },
    "id": "g2gudbElSsKg",
    "outputId": "24710d21-73dc-4810-d9e7-a919a05e12c6"
   },
   "outputs": [],
   "source": [
    "print(df['ps_ind_02_cat'].value_counts())\n",
    "missing_percentage = df['ps_ind_02_cat'].isnull().mean() * 100\n",
    "print(f\"Missing Percentage: {missing_percentage:.2f}%\")\n",
    "print(df['ps_ind_02_cat'].isnull().sum())"
   ]
  },
  {
   "cell_type": "code",
   "execution_count": null,
   "metadata": {
    "colab": {
     "base_uri": "https://localhost:8080/"
    },
    "id": "i1I-Iqexax1B",
    "outputId": "fbda0388-0162-4d7e-ebc5-89a1df3a5e1d"
   },
   "outputs": [],
   "source": [
    "print(df['ps_ind_04_cat'].value_counts())\n",
    "missing_percentage = df['ps_ind_04_cat'].isnull().mean() * 100\n",
    "print(f\"Missing Percentage: {missing_percentage:.2f}%\")\n",
    "print(df['ps_ind_04_cat'].isnull().sum())"
   ]
  },
  {
   "cell_type": "code",
   "execution_count": null,
   "metadata": {
    "colab": {
     "base_uri": "https://localhost:8080/"
    },
    "id": "Q06m9rj_UUxi",
    "outputId": "b18f39bf-6fbb-42fc-c459-d89a6416d7d7"
   },
   "outputs": [],
   "source": [
    "print(df['ps_ind_05_cat'].value_counts())\n",
    "missing_percentage = df['ps_ind_05_cat'].isnull().mean() * 100\n",
    "print(f\"Missing Percentage: {missing_percentage:.2f}%\")\n",
    "print(df['ps_ind_05_cat'].isnull().sum())"
   ]
  },
  {
   "cell_type": "code",
   "execution_count": null,
   "metadata": {
    "colab": {
     "base_uri": "https://localhost:8080/"
    },
    "id": "9ycIxwVDak88",
    "outputId": "487f59a1-d5ca-49d8-aa44-7f48da2bc571"
   },
   "outputs": [],
   "source": [
    "print(df['ps_reg_03'].value_counts())\n",
    "missing_percentage = df['ps_reg_03'].isnull().mean() * 100\n",
    "print(f\"Missing Percentage: {missing_percentage:.2f}%\")\n",
    "print(df['ps_reg_03'].isnull().sum())"
   ]
  },
  {
   "cell_type": "code",
   "execution_count": null,
   "metadata": {
    "colab": {
     "base_uri": "https://localhost:8080/"
    },
    "id": "NARRpFl6bQKU",
    "outputId": "a9e2c5f6-c916-40d5-ff9a-35813c4b2ff2"
   },
   "outputs": [],
   "source": [
    "print(df['ps_car_01_cat'].value_counts())\n",
    "missing_percentage = df['ps_car_01_cat'].isnull().mean() * 100\n",
    "print(f\"Missing Percentage: {missing_percentage:.2f}%\")\n",
    "print(df['ps_car_01_cat'].isnull().sum())"
   ]
  },
  {
   "cell_type": "code",
   "execution_count": null,
   "metadata": {
    "colab": {
     "base_uri": "https://localhost:8080/"
    },
    "id": "NpjutdpTR1bB",
    "outputId": "cc406b6d-411b-4e10-c315-fdfa23fb5fd2"
   },
   "outputs": [],
   "source": [
    "print(df['ps_car_03_cat'].value_counts())\n",
    "missing_percentage = df['ps_car_03_cat'].isnull().mean() * 100\n",
    "print(f\"Missing Percentage: {missing_percentage:.2f}%\")\n",
    "print(df['ps_car_03_cat'].isnull().sum())"
   ]
  },
  {
   "cell_type": "code",
   "execution_count": null,
   "metadata": {
    "colab": {
     "base_uri": "https://localhost:8080/"
    },
    "id": "mfK76F2hSzZm",
    "outputId": "65328e20-3f51-4e08-c3f6-9dca6f91d702"
   },
   "outputs": [],
   "source": [
    "print(df['ps_car_05_cat'].value_counts())\n",
    "missing_percentage = df['ps_car_05_cat'].isnull().mean() * 100\n",
    "print(f\"Missing Percentage: {missing_percentage:.2f}%\")\n",
    "print(df['ps_car_05_cat'].isnull().sum())\n"
   ]
  },
  {
   "cell_type": "code",
   "execution_count": null,
   "metadata": {
    "colab": {
     "base_uri": "https://localhost:8080/"
    },
    "id": "qjo-KdNEdTmy",
    "outputId": "90c8f2c9-01fd-4874-8afd-57236dea6119"
   },
   "outputs": [],
   "source": [
    "print(df['ps_car_07_cat'].value_counts())\n",
    "missing_percentage = df['ps_car_07_cat'].isnull().mean() * 100\n",
    "print(f\"Missing Percentage: {missing_percentage:.2f}%\")\n",
    "print(df['ps_car_07_cat'].isnull().sum())"
   ]
  },
  {
   "cell_type": "code",
   "execution_count": null,
   "metadata": {
    "colab": {
     "base_uri": "https://localhost:8080/"
    },
    "id": "3WDYICC-daMG",
    "outputId": "4e82cdd8-47b9-458f-c345-832a05fb165b"
   },
   "outputs": [],
   "source": [
    "print(df['ps_car_09_cat'].value_counts())\n",
    "missing_percentage = df['ps_car_09_cat'].isnull().mean() * 100\n",
    "print(f\"Missing Percentage: {missing_percentage:.2f}%\")\n",
    "print(df['ps_car_09_cat'].isnull().sum())"
   ]
  },
  {
   "cell_type": "code",
   "execution_count": null,
   "metadata": {
    "colab": {
     "base_uri": "https://localhost:8080/"
    },
    "id": "kcafbSXnd3Wq",
    "outputId": "72f84b78-62e0-429d-9c9c-babb507cf049"
   },
   "outputs": [],
   "source": [
    "\n",
    "print(df['ps_car_11'].value_counts())\n",
    "missing_percentage = df['ps_car_11'].isnull().mean() * 100\n",
    "print(f\"Missing Percentage: {missing_percentage:.2f}%\")\n",
    "print(df['ps_car_11'].isnull().sum())"
   ]
  },
  {
   "cell_type": "code",
   "execution_count": null,
   "metadata": {
    "colab": {
     "base_uri": "https://localhost:8080/"
    },
    "id": "YLnpGOeld_lF",
    "outputId": "fe7bebbd-2d7b-4f85-a561-163f091cd803"
   },
   "outputs": [],
   "source": [
    "\n",
    "print(df['ps_car_12'].value_counts())\n",
    "missing_percentage = df['ps_car_12'].isnull().mean() * 100\n",
    "print(f\"Missing Percentage: {missing_percentage:.2f}%\")\n",
    "print(df['ps_car_12'].isnull().sum())"
   ]
  },
  {
   "cell_type": "code",
   "execution_count": null,
   "metadata": {
    "colab": {
     "base_uri": "https://localhost:8080/"
    },
    "id": "pt18OdR9eNwx",
    "outputId": "c68bad4d-0c89-40b2-ad6b-0d892fb01584"
   },
   "outputs": [],
   "source": [
    "\n",
    "print(df['ps_car_14'].value_counts())\n",
    "missing_percentage = df['ps_car_14'].isnull().mean() * 100\n",
    "print(f\"Missing Percentage: {missing_percentage:.2f}%\")\n",
    "print(df['ps_car_14'].isnull().sum())"
   ]
  },
  {
   "cell_type": "code",
   "execution_count": null,
   "metadata": {
    "colab": {
     "base_uri": "https://localhost:8080/",
     "height": 256
    },
    "id": "iLgZYylTTZs3",
    "outputId": "8d444b98-11fd-4289-9c97-e9ac7eba2938"
   },
   "outputs": [],
   "source": [
    "df = df.drop(columns=['ps_reg_03','ps_car_03_cat','ps_car_05_cat'])\n",
    "df.head()"
   ]
  },
  {
   "cell_type": "code",
   "execution_count": null,
   "metadata": {
    "colab": {
     "base_uri": "https://localhost:8080/",
     "height": 1000
    },
    "id": "tEOULrSbUv6H",
    "outputId": "1d744dd0-570e-46c5-aff7-668ee50e43b8"
   },
   "outputs": [],
   "source": [
    "df.isnull().sum()"
   ]
  },
  {
   "cell_type": "markdown",
   "metadata": {
    "id": "orJzkqO-omLh"
   },
   "source": [
    "Filling NUll Values"
   ]
  },
  {
   "cell_type": "code",
   "execution_count": null,
   "metadata": {
    "colab": {
     "base_uri": "https://localhost:8080/"
    },
    "id": "mPFyO4C4b6P6",
    "outputId": "9ff30234-aa34-4c1a-b335-b952f578896d"
   },
   "outputs": [],
   "source": [
    "mode_value = df['ps_ind_02_cat'].mode()[0]\n",
    "df['ps_ind_02_cat'].fillna(mode_value, inplace=True)"
   ]
  },
  {
   "cell_type": "code",
   "execution_count": null,
   "metadata": {
    "colab": {
     "base_uri": "https://localhost:8080/"
    },
    "id": "4vg_02CnorVb",
    "outputId": "f1b7999f-c07f-403c-be54-e5687b2aad45"
   },
   "outputs": [],
   "source": [
    "mode_value = df['ps_ind_04_cat'].mode()[0]\n",
    "df['ps_ind_04_cat'].fillna(mode_value, inplace=True)"
   ]
  },
  {
   "cell_type": "code",
   "execution_count": null,
   "metadata": {
    "colab": {
     "base_uri": "https://localhost:8080/"
    },
    "id": "QFp9wiMKoyNz",
    "outputId": "08e83c70-d6f8-4209-c43e-302e7b87dc41"
   },
   "outputs": [],
   "source": [
    "mode_value = df['ps_ind_05_cat'].mode()[0]\n",
    "df['ps_ind_05_cat'].fillna(mode_value, inplace=True)"
   ]
  },
  {
   "cell_type": "code",
   "execution_count": null,
   "metadata": {
    "colab": {
     "base_uri": "https://localhost:8080/"
    },
    "id": "Cv5uJ6KZqLSP",
    "outputId": "044ecb3a-8241-4b74-fc9c-980568d879e9"
   },
   "outputs": [],
   "source": [
    "mode_value = df['ps_car_01_cat'].mode()[0]\n",
    "df['ps_car_01_cat'].fillna(mode_value, inplace=True)"
   ]
  },
  {
   "cell_type": "code",
   "execution_count": null,
   "metadata": {
    "colab": {
     "base_uri": "https://localhost:8080/"
    },
    "id": "1OfgmO8zqmXa",
    "outputId": "b40c9f50-19a2-4666-b268-32ba64d88935"
   },
   "outputs": [],
   "source": [
    "mode_value = df['ps_car_07_cat'].mode()[0]\n",
    "df['ps_car_07_cat'].fillna(mode_value, inplace=True)"
   ]
  },
  {
   "cell_type": "code",
   "execution_count": null,
   "metadata": {
    "colab": {
     "base_uri": "https://localhost:8080/"
    },
    "id": "cZ1DDjWXq3Cp",
    "outputId": "b32b2218-4e54-4030-aa49-71b08dfa0a01"
   },
   "outputs": [],
   "source": [
    "mode_value = df['ps_car_09_cat'].mode()[0]\n",
    "df['ps_car_09_cat'].fillna(mode_value, inplace=True)"
   ]
  },
  {
   "cell_type": "code",
   "execution_count": null,
   "metadata": {
    "colab": {
     "base_uri": "https://localhost:8080/"
    },
    "id": "iIl0XipirHXN",
    "outputId": "1bf3f6d3-8b58-4ea4-c2ac-d093666c2175"
   },
   "outputs": [],
   "source": [
    "mode_value = df['ps_car_11'].mode()[0]\n",
    "df['ps_car_11'].fillna(mode_value, inplace=True)"
   ]
  },
  {
   "cell_type": "code",
   "execution_count": null,
   "metadata": {
    "colab": {
     "base_uri": "https://localhost:8080/"
    },
    "id": "w_6V-rSFrJOT",
    "outputId": "d6c7d84b-ad4f-4275-d5ed-8b3a295f7969"
   },
   "outputs": [],
   "source": [
    "mode_value = df['ps_car_12'].mode()[0]\n",
    "df['ps_car_12'].fillna(mode_value, inplace=True)"
   ]
  },
  {
   "cell_type": "code",
   "execution_count": null,
   "metadata": {
    "colab": {
     "base_uri": "https://localhost:8080/"
    },
    "id": "gx6gRdC0rQOi",
    "outputId": "ac6baecf-6b15-41f0-f335-d50fabd53d63"
   },
   "outputs": [],
   "source": [
    "df['ps_car_14'].fillna(0.3696134, inplace=True)"
   ]
  },
  {
   "cell_type": "code",
   "execution_count": null,
   "metadata": {
    "colab": {
     "base_uri": "https://localhost:8080/",
     "height": 1000
    },
    "id": "Dby-0voVsWeM",
    "outputId": "a98e7536-a5ea-4a8b-fc6e-07f8dffa473d"
   },
   "outputs": [],
   "source": [
    "df.isnull().sum()"
   ]
  },
  {
   "cell_type": "code",
   "execution_count": null,
   "metadata": {
    "colab": {
     "base_uri": "https://localhost:8080/",
     "height": 444
    },
    "id": "e_npGlPJsZ_Z",
    "outputId": "f6ba105a-afbc-4c15-8641-4aa5aca24696"
   },
   "outputs": [],
   "source": [
    "df.drop(columns=['id'],inplace=True)\n",
    "df"
   ]
  },
  {
   "cell_type": "code",
   "execution_count": null,
   "metadata": {
    "colab": {
     "base_uri": "https://localhost:8080/"
    },
    "id": "SoBlP4whtZ7B",
    "outputId": "14e2e790-ebe0-4c28-b78b-cfea39a25896"
   },
   "outputs": [],
   "source": [
    "print(df.dtypes)"
   ]
  },
  {
   "cell_type": "code",
   "execution_count": null,
   "metadata": {
    "colab": {
     "base_uri": "https://localhost:8080/",
     "height": 350
    },
    "id": "0kWhy2yRvGVg",
    "outputId": "b660d470-990c-48b4-9de5-3941a98c8055"
   },
   "outputs": [],
   "source": [
    "df.describe()"
   ]
  },
  {
   "cell_type": "code",
   "execution_count": null,
   "metadata": {
    "id": "gINReKkOrPfo"
   },
   "outputs": [],
   "source": [
    "from sklearn.model_selection import train_test_split\n",
    "from sklearn.model_selection import cross_val_score\n",
    "\n",
    "from sklearn.linear_model import LinearRegression\n",
    "from sklearn.linear_model import LogisticRegression\n",
    "\n",
    "from sklearn.metrics import r2_score\n",
    "\n",
    "from sklearn.preprocessing import PowerTransformer"
   ]
  },
  {
   "cell_type": "code",
   "execution_count": null,
   "metadata": {
    "id": "BBsi3CT1wBFH"
   },
   "outputs": [],
   "source": [
    "X = df.drop(columns=['target'])\n",
    "y= df['target']"
   ]
  },
  {
   "cell_type": "code",
   "execution_count": null,
   "metadata": {
    "id": "aNkG3FDowzkE"
   },
   "outputs": [],
   "source": [
    "X_train, X_test, y_train, y_test = train_test_split(X,y,test_size=0.2,random_state=42)"
   ]
  },
  {
   "cell_type": "markdown",
   "metadata": {
    "id": "G5jPRG2ywuh4"
   },
   "source": [
    "Applying Regression without any transformation"
   ]
  },
  {
   "cell_type": "code",
   "execution_count": null,
   "metadata": {
    "colab": {
     "base_uri": "https://localhost:8080/"
    },
    "id": "SowH7w8VwZn9",
    "outputId": "ec542f80-d3fa-4de1-c4da-b25cf3e674e6"
   },
   "outputs": [],
   "source": [
    "lr = LinearRegression()\n",
    "\n",
    "lr.fit(X_train,y_train)\n",
    "\n",
    "y_pred = lr.predict(X_test)\n",
    "\n",
    "r2_score(y_test,y_pred)"
   ]
  },
  {
   "cell_type": "markdown",
   "metadata": {
    "id": "8OomvltFxCOF"
   },
   "source": [
    " Cross checking with cross val score"
   ]
  },
  {
   "cell_type": "code",
   "execution_count": null,
   "metadata": {
    "colab": {
     "base_uri": "https://localhost:8080/"
    },
    "id": "B4sybxYDxDHY",
    "outputId": "2c39d1fe-5f7b-4a39-8e9b-c0b8d5dd560b"
   },
   "outputs": [],
   "source": [
    "lr = LinearRegression()\n",
    "np.mean(cross_val_score(lr,X,y,scoring='r2'))"
   ]
  },
  {
   "cell_type": "code",
   "execution_count": null,
   "metadata": {
    "colab": {
     "base_uri": "https://localhost:8080/",
     "height": 1000
    },
    "id": "gOpsadVOxuYg",
    "outputId": "9d1e0716-b5db-4cba-902f-75241e53f3d4"
   },
   "outputs": [],
   "source": [
    "# Apply Yeo-Johnson transform\n",
    "\n",
    "pt1 = PowerTransformer()\n",
    "\n",
    "X_train_transformed2 = pt1.fit_transform(X_train)\n",
    "X_test_transformed2 = pt1.transform(X_test)\n",
    "\n",
    "lr = LinearRegression()\n",
    "lr.fit(X_train_transformed2,y_train)\n",
    "\n",
    "y_pred3 = lr.predict(X_test_transformed2)\n",
    "\n",
    "print(r2_score(y_test,y_pred3))\n",
    "\n",
    "pd.DataFrame({'cols':X_train.columns,'Yeo_Johnson_lambdas':pt1.lambdas_})"
   ]
  },
  {
   "cell_type": "code",
   "execution_count": null,
   "metadata": {
    "colab": {
     "base_uri": "https://localhost:8080/"
    },
    "id": "ywgLSE0nyEJb",
    "outputId": "2ad1977b-6f98-4c70-b607-9bc193ebd617"
   },
   "outputs": [],
   "source": [
    "# applying cross val score\n",
    "\n",
    "pt = PowerTransformer()\n",
    "X_transformed2 = pt.fit_transform(X)\n",
    "\n",
    "lr = LinearRegression()\n",
    "np.mean(cross_val_score(lr,X_transformed2,y,scoring='r2'))"
   ]
  },
  {
   "cell_type": "code",
   "execution_count": null,
   "metadata": {
    "id": "GyX_csCuyKph"
   },
   "outputs": [],
   "source": [
    "X_train_transformed2 = pd.DataFrame(X_train_transformed2,columns=X_train.columns)"
   ]
  },
  {
   "cell_type": "code",
   "execution_count": null,
   "metadata": {
    "colab": {
     "base_uri": "https://localhost:8080/",
     "height": 53
    },
    "id": "vIy4TMyEyLW5",
    "outputId": "5b03a9b4-4bca-48d6-dc9c-c61436e57966"
   },
   "outputs": [],
   "source": [
    "# Before and after comparision for Yeo-Johnson\n",
    "'''\n",
    "for col in X_train_transformed2.columns:\n",
    "    plt.figure(figsize=(14,4))\n",
    "    plt.subplot(121)\n",
    "    sns.distplot(X_train[col])\n",
    "    plt.title(col)\n",
    "\n",
    "    plt.subplot(122)\n",
    "    sns.distplot(X_train_transformed2[col])\n",
    "    plt.title(col)\n",
    "\n",
    "    plt.show()\n",
    "    '''"
   ]
  },
  {
   "cell_type": "markdown",
   "metadata": {
    "id": "_2xfZg08zvr1"
   },
   "source": [
    "LogisticRegression"
   ]
  },
  {
   "cell_type": "code",
   "execution_count": null,
   "metadata": {
    "id": "9M094mIszs_k"
   },
   "outputs": [],
   "source": [
    "lg = LogisticRegression()\n",
    "lr.fit(X_train,y_train)\n",
    "\n",
    "y_pred = lr.predict(X_test)\n",
    "\n",
    "r2_score(y_test,y_pred)"
   ]
  },
  {
   "cell_type": "code",
   "execution_count": null,
   "metadata": {
    "colab": {
     "base_uri": "https://localhost:8080/"
    },
    "id": "SvFsMhWb0HLm",
    "outputId": "52f6a43f-a4bf-4050-a121-5efdf2132058"
   },
   "outputs": [],
   "source": [
    "from sklearn.tree import DecisionTreeClassifier\n",
    "clf = DecisionTreeClassifier()\n",
    "clf.fit(X_train, y_train)\n",
    "y_pred = clf.predict(X_test)\n",
    "r2_score(y_test,y_pred)"
   ]
  },
  {
   "cell_type": "code",
   "execution_count": null,
   "metadata": {
    "colab": {
     "base_uri": "https://localhost:8080/"
    },
    "id": "fWxle80o_79Y",
    "outputId": "7684815f-fa47-4e1f-f146-7aab117ae68c"
   },
   "outputs": [],
   "source": [
    "from sklearn.ensemble import RandomForestClassifier\n",
    "clf2 = RandomForestClassifier(n_estimators=100, random_state=42)\n",
    "clf2.fit(X_train, y_train)\n",
    "y_pred = clf2.predict(X_test)\n",
    "r2_score(y_test,y_pred)\n"
   ]
  },
  {
   "cell_type": "code",
   "execution_count": null,
   "metadata": {
    "colab": {
     "base_uri": "https://localhost:8080/"
    },
    "id": "o6VZB69XAyPN",
    "outputId": "fa7cb7c7-3859-4a11-eecd-4a52190601a7"
   },
   "outputs": [],
   "source": [
    "from sklearn.neighbors import KNeighborsClassifier\n",
    "knn = KNeighborsClassifier(n_neighbors=3)\n",
    "knn.fit(X_train, y_train)\n",
    "y_pred = knn.predict(X_test)\n",
    "r2_score(y_test,y_pred)"
   ]
  },
  {
   "cell_type": "code",
   "execution_count": null,
   "metadata": {
    "id": "3QjDYVHDDGTk"
   },
   "outputs": [],
   "source": [
    "from sklearn.neighbors import KNeighborsRegressor\n",
    "knn_regressor = KNeighborsRegressor(n_neighbors=3)\n",
    "knn_regressor.fit(X_train, y_train)\n",
    "y_pred = knn_regressor.predict(X_test)\n",
    "r2_score(y_test,y_pred)"
   ]
  },
  {
   "cell_type": "code",
   "execution_count": null,
   "metadata": {
    "id": "v0a2w3x1Ca_M"
   },
   "outputs": [],
   "source": [
    "from sklearn.svm import SVC\n",
    "svm = SVC(kernel='linear', C=1.0, random_state=42)\n",
    "svm.fit(X_train, y_train)\n",
    "y_pred = svm.predict(X_test)\n",
    "r2_score(y_test,y_pred)\n"
   ]
  },
  {
   "cell_type": "code",
   "execution_count": null,
   "metadata": {
    "id": "MMGK4O6xCgis"
   },
   "outputs": [],
   "source": [
    "from sklearn.naive_bayes import GaussianNB\n",
    "gnb = GaussianNB()\n",
    "gnb.fit(X_train, y_train)\n",
    "y_pred = gnb.predict(X_test)\n",
    "r2_score(y_test,y_pred)"
   ]
  }
 ],
 "metadata": {
  "colab": {
   "provenance": []
  },
  "kernelspec": {
   "display_name": "Python 3 (ipykernel)",
   "language": "python",
   "name": "python3"
  },
  "language_info": {
   "codemirror_mode": {
    "name": "ipython",
    "version": 3
   },
   "file_extension": ".py",
   "mimetype": "text/x-python",
   "name": "python",
   "nbconvert_exporter": "python",
   "pygments_lexer": "ipython3",
   "version": "3.11.7"
  }
 },
 "nbformat": 4,
 "nbformat_minor": 4
}
